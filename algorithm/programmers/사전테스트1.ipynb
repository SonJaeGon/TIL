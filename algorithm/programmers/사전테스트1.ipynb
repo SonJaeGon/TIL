{
 "cells": [
  {
   "cell_type": "code",
   "execution_count": null,
   "metadata": {},
   "outputs": [],
   "source": [
    "def solution(n, m):\n",
    "\tanswer = 0\n",
    "\n",
    "    for i in range(n, m):\n",
    "        a = 0\n",
    "        if i == i[::-1]:\n",
    "            a += 1\n",
    "        else:\n",
    "    \t    answer = 1\n",
    "    return answer"
   ]
  },
  {
   "cell_type": "code",
   "execution_count": 7,
   "metadata": {},
   "outputs": [
    {
     "ename": "IndentationError",
     "evalue": "unindent does not match any outer indentation level (<tokenize>, line 3)",
     "output_type": "error",
     "traceback": [
      "\u001b[1;36m  File \u001b[1;32m<tokenize>:3\u001b[1;36m\u001b[0m\n\u001b[1;33m    for i in range(n, m):\u001b[0m\n\u001b[1;37m    ^\u001b[0m\n\u001b[1;31mIndentationError\u001b[0m\u001b[1;31m:\u001b[0m unindent does not match any outer indentation level\n"
     ]
    }
   ],
   "source": [
    "def solution(n, m):\n",
    "\tanswer = 0\n",
    "    for i in range(n, m):\n",
    "        a = 0\n",
    "        if i == i[::-1]:\n",
    "            a += 1\n",
    "        else:\n",
    "            return answer\n",
    "    return answer"
   ]
  },
  {
   "cell_type": "code",
   "execution_count": 3,
   "metadata": {},
   "outputs": [
    {
     "name": "stdout",
     "output_type": "stream",
     "text": [
      "no\n",
      "no\n",
      "yes\n",
      "yes\n",
      "no\n",
      "yes\n"
     ]
    }
   ],
   "source": [
    "while(True):\n",
    "    a = input()\n",
    "    if a == \"0\":\n",
    "        break\n",
    "    elif a == a[::-1]:\n",
    "        print(\"yes\")\n",
    "    else:\n",
    "        print(\"no\")"
   ]
  },
  {
   "cell_type": "code",
   "execution_count": 9,
   "metadata": {},
   "outputs": [
    {
     "ename": "",
     "evalue": "",
     "output_type": "error",
     "traceback": [
      "\u001b[1;31mCanceled future for execute_request message before replies were done"
     ]
    }
   ],
   "source": [
    "import sys\n",
    "\n",
    "ans = []\n",
    "input = sys.stdin.readline\n",
    "while True:\n",
    "    n = input().rstrip()\n",
    "    if n == '0':\n",
    "        break\n",
    "    start = 0\n",
    "    flag = True\n",
    "    for i in range(len(n)//2):\n",
    "        end = len(n)-1-start\n",
    "        if n[start] != n[end]:\n",
    "            ans.append(\"no\")\n",
    "            flag = False\n",
    "            break\n",
    "        else:\n",
    "            start += 1\n",
    "    if flag:\n",
    "        ans.append(\"yes\")\n",
    "\n",
    "for i in ans:\n",
    "    print(i)"
   ]
  },
  {
   "cell_type": "code",
   "execution_count": null,
   "metadata": {},
   "outputs": [],
   "source": []
  }
 ],
 "metadata": {
  "kernelspec": {
   "display_name": "Python 3.10.3 64-bit",
   "language": "python",
   "name": "python3"
  },
  "language_info": {
   "codemirror_mode": {
    "name": "ipython",
    "version": 3
   },
   "file_extension": ".py",
   "mimetype": "text/x-python",
   "name": "python",
   "nbconvert_exporter": "python",
   "pygments_lexer": "ipython3",
   "version": "3.10.3"
  },
  "orig_nbformat": 4,
  "vscode": {
   "interpreter": {
    "hash": "afb734500600fd355917ca529030176ea0ca205570884b88f2f6f7d791fd3fbe"
   }
  }
 },
 "nbformat": 4,
 "nbformat_minor": 2
}
