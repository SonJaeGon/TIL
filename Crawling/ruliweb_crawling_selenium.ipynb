{
 "cells": [
  {
   "cell_type": "code",
   "execution_count": 1,
   "metadata": {},
   "outputs": [
    {
     "name": "stderr",
     "output_type": "stream",
     "text": [
      "<ipython-input-1-083c3e1b2cab>:22: DeprecationWarning: executable_path has been deprecated, please pass in a Service object\n",
      "  driver = webdriver.Chrome(f'./{chrome_ver}/chromedriver.exe')\n"
     ]
    }
   ],
   "source": [
    "import numpy as np\n",
    "import pandas as pd\n",
    "from selenium import webdriver\n",
    "from selenium.webdriver.chrome.service import Service\n",
    "from webdriver_manager.chrome import ChromeDriverManager\n",
    "from bs4 import BeautifulSoup\n",
    "import chromedriver_autoinstaller\n",
    "import os\n",
    "import time\n",
    "from selenium.webdriver.common.by import By\n",
    "\n",
    "df = pd.read_csv('./루리웹__게임 리스트.csv')\n",
    "review_list = df.iloc[:,[2]].values.tolist()\n",
    "\n",
    "\n",
    "review_data = pd.DataFrame({'게임명':[], \"리뷰\":[], \"추천\":[], \"비추천\":[], \"조회\":[], \"날짜\":[]})\n",
    "\n",
    "\n",
    "chrome_ver = chromedriver_autoinstaller.get_chrome_version().split('.')[0]  #크롬드라이버 버전 확인\n",
    "\n",
    "try:\n",
    "    driver = webdriver.Chrome(f'./{chrome_ver}/chromedriver.exe')   \n",
    "except:\n",
    "    chromedriver_autoinstaller.install(True)\n",
    "    driver = webdriver.Chrome(f'./{chrome_ver}/chromedriver.exe')\n",
    "\n",
    "driver.implicitly_wait(10)"
   ]
  },
  {
   "cell_type": "code",
   "execution_count": 3,
   "metadata": {},
   "outputs": [
    {
     "data": {
      "text/html": [
       "<div>\n",
       "<style scoped>\n",
       "    .dataframe tbody tr th:only-of-type {\n",
       "        vertical-align: middle;\n",
       "    }\n",
       "\n",
       "    .dataframe tbody tr th {\n",
       "        vertical-align: top;\n",
       "    }\n",
       "\n",
       "    .dataframe thead th {\n",
       "        text-align: right;\n",
       "    }\n",
       "</style>\n",
       "<table border=\"1\" class=\"dataframe\">\n",
       "  <thead>\n",
       "    <tr style=\"text-align: right;\">\n",
       "      <th></th>\n",
       "      <th>Unnamed: 0</th>\n",
       "      <th>Name(Eng)</th>\n",
       "      <th>Name(Kor)</th>\n",
       "      <th>Release date</th>\n",
       "    </tr>\n",
       "  </thead>\n",
       "  <tbody>\n",
       "    <tr>\n",
       "      <th>0</th>\n",
       "      <td>NaN</td>\n",
       "      <td>Rain World</td>\n",
       "      <td>레인 월드</td>\n",
       "      <td>2017-03-27</td>\n",
       "    </tr>\n",
       "    <tr>\n",
       "      <th>1</th>\n",
       "      <td>NaN</td>\n",
       "      <td>Kero Blaster</td>\n",
       "      <td>케로 블래스터</td>\n",
       "      <td>2014-05-11</td>\n",
       "    </tr>\n",
       "    <tr>\n",
       "      <th>2</th>\n",
       "      <td>NaN</td>\n",
       "      <td>Valkyrie Drive: Bhikkhuni</td>\n",
       "      <td>발키리 드라이브 비쿠니</td>\n",
       "      <td>2015-12-10</td>\n",
       "    </tr>\n",
       "    <tr>\n",
       "      <th>3</th>\n",
       "      <td>NaN</td>\n",
       "      <td>Headmaster</td>\n",
       "      <td>헤드마스터</td>\n",
       "      <td>2016-10-13</td>\n",
       "    </tr>\n",
       "    <tr>\n",
       "      <th>4</th>\n",
       "      <td>NaN</td>\n",
       "      <td>NEON STRUCT</td>\n",
       "      <td>네온 스트럭트</td>\n",
       "      <td>2015-04-03</td>\n",
       "    </tr>\n",
       "  </tbody>\n",
       "</table>\n",
       "</div>"
      ],
      "text/plain": [
       "   Unnamed: 0                  Name(Eng)     Name(Kor) Release date\n",
       "0         NaN                 Rain World         레인 월드   2017-03-27\n",
       "1         NaN               Kero Blaster       케로 블래스터   2014-05-11\n",
       "2         NaN  Valkyrie Drive: Bhikkhuni  발키리 드라이브 비쿠니   2015-12-10\n",
       "3         NaN                 Headmaster         헤드마스터   2016-10-13\n",
       "4         NaN                NEON STRUCT       네온 스트럭트   2015-04-03"
      ]
     },
     "execution_count": 3,
     "metadata": {},
     "output_type": "execute_result"
    }
   ],
   "source": [
    "df.head()"
   ]
  },
  {
   "cell_type": "code",
   "execution_count": null,
   "metadata": {},
   "outputs": [],
   "source": [
    "def reviewtext():\n",
    "    for nums in range(1, 32):   # 후기 게시글 텍스트화하는 코드\n",
    "        driver.find_element(\"xpath\",'//*[@id=\"board_list\"]/div/div[2]/table/tbody/tr[%d]/td[3]/div/a[1]' % (nums)).click()\n",
    "        driver.find_element(\"xpath\",'//*[@id=\"board_read\"]/div/div[2]/div[2]/div[1]').text # 메인 글\n",
    "        driver.find_element(\"xpath\",'//*[@id=\"board_read\"]/div/div[2]/div[1]/div[1]/div[2]/div[2]/div/p[5]').text # 추천, 조회수, 비추천\n",
    "        driver.find_element(\"xpath\",'//*[@id=\"board_read\"]/div/div[2]/div[1]/div[1]/div[2]/div[2]/div/p[6]/span').text # 날짜"
   ]
  },
  {
   "cell_type": "code",
   "execution_count": 22,
   "metadata": {},
   "outputs": [
    {
     "name": "stdout",
     "output_type": "stream",
     "text": [
      "레인 월드의 게임 리뷰를 수집합니다.\n"
     ]
    },
    {
     "ename": "NoSuchElementException",
     "evalue": "Message: no such element: Unable to locate element: {\"method\":\"xpath\",\"selector\":\"//*[@id=\"game_search\"]/form/ul/li/div/div[2]/div/p\"}\n  (Session info: chrome=105.0.5195.102)\nStacktrace:\nBacktrace:\n\tOrdinal0 [0x00CFC0A3+2212003]\n\tOrdinal0 [0x00C92CC1+1780929]\n\tOrdinal0 [0x00BA465D+804445]\n\tOrdinal0 [0x00BD3475+996469]\n\tOrdinal0 [0x00BD363B+996923]\n\tOrdinal0 [0x00C01382+1184642]\n\tOrdinal0 [0x00BEEC64+1109092]\n\tOrdinal0 [0x00BFF5B2+1177010]\n\tOrdinal0 [0x00BEEA36+1108534]\n\tOrdinal0 [0x00BC83C9+951241]\n\tOrdinal0 [0x00BC9396+955286]\n\tGetHandleVerifier [0x00FA9CE2+2746722]\n\tGetHandleVerifier [0x00F9A234+2682548]\n\tGetHandleVerifier [0x00D8B34A+524234]\n\tGetHandleVerifier [0x00D89B60+518112]\n\tOrdinal0 [0x00C99FBC+1810364]\n\tOrdinal0 [0x00C9EA28+1829416]\n\tOrdinal0 [0x00C9EB15+1829653]\n\tOrdinal0 [0x00CA8744+1869636]\n\tBaseThreadInitThunk [0x768CFA29+25]\n\tRtlGetAppContainerNamedObjectPath [0x76F77A9E+286]\n\tRtlGetAppContainerNamedObjectPath [0x76F77A6E+238]\n",
     "output_type": "error",
     "traceback": [
      "\u001b[1;31m---------------------------------------------------------------------------\u001b[0m",
      "\u001b[1;31mNoSuchElementException\u001b[0m                    Traceback (most recent call last)",
      "\u001b[1;32m<ipython-input-22-ac70ed38e1e8>\u001b[0m in \u001b[0;36m<module>\u001b[1;34m\u001b[0m\n\u001b[0;32m     15\u001b[0m     \u001b[0mtime\u001b[0m\u001b[1;33m.\u001b[0m\u001b[0msleep\u001b[0m\u001b[1;33m(\u001b[0m\u001b[1;36m1\u001b[0m\u001b[1;33m)\u001b[0m\u001b[1;33m\u001b[0m\u001b[1;33m\u001b[0m\u001b[0m\n\u001b[0;32m     16\u001b[0m \u001b[1;33m\u001b[0m\u001b[0m\n\u001b[1;32m---> 17\u001b[1;33m     \u001b[1;32mif\u001b[0m \u001b[0mdriver\u001b[0m\u001b[1;33m.\u001b[0m\u001b[0mfind_element\u001b[0m\u001b[1;33m(\u001b[0m\u001b[1;34m\"xpath\"\u001b[0m\u001b[1;33m,\u001b[0m \u001b[1;34m'//*[@id=\"game_search\"]/form/ul/li/div/div[2]/div/p'\u001b[0m\u001b[1;33m)\u001b[0m \u001b[1;33m==\u001b[0m \u001b[1;32mTrue\u001b[0m\u001b[1;33m:\u001b[0m \u001b[1;31m# 검색 결과없음 창이 뜬다면?\u001b[0m\u001b[1;33m\u001b[0m\u001b[1;33m\u001b[0m\u001b[0m\n\u001b[0m\u001b[0;32m     18\u001b[0m         \u001b[0mprint\u001b[0m\u001b[1;33m(\u001b[0m\u001b[1;34m'게임 데이터가 없습니다.'\u001b[0m\u001b[1;33m)\u001b[0m\u001b[1;33m\u001b[0m\u001b[1;33m\u001b[0m\u001b[0m\n\u001b[0;32m     19\u001b[0m     \u001b[1;32melse\u001b[0m\u001b[1;33m:\u001b[0m\u001b[1;33m\u001b[0m\u001b[1;33m\u001b[0m\u001b[0m\n",
      "\u001b[1;32mc:\\Users\\User\\anaconda3\\lib\\site-packages\\selenium\\webdriver\\remote\\webdriver.py\u001b[0m in \u001b[0;36mfind_element\u001b[1;34m(self, by, value)\u001b[0m\n\u001b[0;32m    853\u001b[0m             \u001b[0mvalue\u001b[0m \u001b[1;33m=\u001b[0m \u001b[1;34m'[name=\"%s\"]'\u001b[0m \u001b[1;33m%\u001b[0m \u001b[0mvalue\u001b[0m\u001b[1;33m\u001b[0m\u001b[1;33m\u001b[0m\u001b[0m\n\u001b[0;32m    854\u001b[0m \u001b[1;33m\u001b[0m\u001b[0m\n\u001b[1;32m--> 855\u001b[1;33m         return self.execute(Command.FIND_ELEMENT, {\n\u001b[0m\u001b[0;32m    856\u001b[0m             \u001b[1;34m'using'\u001b[0m\u001b[1;33m:\u001b[0m \u001b[0mby\u001b[0m\u001b[1;33m,\u001b[0m\u001b[1;33m\u001b[0m\u001b[1;33m\u001b[0m\u001b[0m\n\u001b[0;32m    857\u001b[0m             'value': value})['value']\n",
      "\u001b[1;32mc:\\Users\\User\\anaconda3\\lib\\site-packages\\selenium\\webdriver\\remote\\webdriver.py\u001b[0m in \u001b[0;36mexecute\u001b[1;34m(self, driver_command, params)\u001b[0m\n\u001b[0;32m    426\u001b[0m         \u001b[0mresponse\u001b[0m \u001b[1;33m=\u001b[0m \u001b[0mself\u001b[0m\u001b[1;33m.\u001b[0m\u001b[0mcommand_executor\u001b[0m\u001b[1;33m.\u001b[0m\u001b[0mexecute\u001b[0m\u001b[1;33m(\u001b[0m\u001b[0mdriver_command\u001b[0m\u001b[1;33m,\u001b[0m \u001b[0mparams\u001b[0m\u001b[1;33m)\u001b[0m\u001b[1;33m\u001b[0m\u001b[1;33m\u001b[0m\u001b[0m\n\u001b[0;32m    427\u001b[0m         \u001b[1;32mif\u001b[0m \u001b[0mresponse\u001b[0m\u001b[1;33m:\u001b[0m\u001b[1;33m\u001b[0m\u001b[1;33m\u001b[0m\u001b[0m\n\u001b[1;32m--> 428\u001b[1;33m             \u001b[0mself\u001b[0m\u001b[1;33m.\u001b[0m\u001b[0merror_handler\u001b[0m\u001b[1;33m.\u001b[0m\u001b[0mcheck_response\u001b[0m\u001b[1;33m(\u001b[0m\u001b[0mresponse\u001b[0m\u001b[1;33m)\u001b[0m\u001b[1;33m\u001b[0m\u001b[1;33m\u001b[0m\u001b[0m\n\u001b[0m\u001b[0;32m    429\u001b[0m             response['value'] = self._unwrap_value(\n\u001b[0;32m    430\u001b[0m                 response.get('value', None))\n",
      "\u001b[1;32mc:\\Users\\User\\anaconda3\\lib\\site-packages\\selenium\\webdriver\\remote\\errorhandler.py\u001b[0m in \u001b[0;36mcheck_response\u001b[1;34m(self, response)\u001b[0m\n\u001b[0;32m    241\u001b[0m                 \u001b[0malert_text\u001b[0m \u001b[1;33m=\u001b[0m \u001b[0mvalue\u001b[0m\u001b[1;33m[\u001b[0m\u001b[1;34m'alert'\u001b[0m\u001b[1;33m]\u001b[0m\u001b[1;33m.\u001b[0m\u001b[0mget\u001b[0m\u001b[1;33m(\u001b[0m\u001b[1;34m'text'\u001b[0m\u001b[1;33m)\u001b[0m\u001b[1;33m\u001b[0m\u001b[1;33m\u001b[0m\u001b[0m\n\u001b[0;32m    242\u001b[0m             \u001b[1;32mraise\u001b[0m \u001b[0mexception_class\u001b[0m\u001b[1;33m(\u001b[0m\u001b[0mmessage\u001b[0m\u001b[1;33m,\u001b[0m \u001b[0mscreen\u001b[0m\u001b[1;33m,\u001b[0m \u001b[0mstacktrace\u001b[0m\u001b[1;33m,\u001b[0m \u001b[0malert_text\u001b[0m\u001b[1;33m)\u001b[0m  \u001b[1;31m# type: ignore[call-arg]  # mypy is not smart enough here\u001b[0m\u001b[1;33m\u001b[0m\u001b[1;33m\u001b[0m\u001b[0m\n\u001b[1;32m--> 243\u001b[1;33m         \u001b[1;32mraise\u001b[0m \u001b[0mexception_class\u001b[0m\u001b[1;33m(\u001b[0m\u001b[0mmessage\u001b[0m\u001b[1;33m,\u001b[0m \u001b[0mscreen\u001b[0m\u001b[1;33m,\u001b[0m \u001b[0mstacktrace\u001b[0m\u001b[1;33m)\u001b[0m\u001b[1;33m\u001b[0m\u001b[1;33m\u001b[0m\u001b[0m\n\u001b[0m",
      "\u001b[1;31mNoSuchElementException\u001b[0m: Message: no such element: Unable to locate element: {\"method\":\"xpath\",\"selector\":\"//*[@id=\"game_search\"]/form/ul/li/div/div[2]/div/p\"}\n  (Session info: chrome=105.0.5195.102)\nStacktrace:\nBacktrace:\n\tOrdinal0 [0x00CFC0A3+2212003]\n\tOrdinal0 [0x00C92CC1+1780929]\n\tOrdinal0 [0x00BA465D+804445]\n\tOrdinal0 [0x00BD3475+996469]\n\tOrdinal0 [0x00BD363B+996923]\n\tOrdinal0 [0x00C01382+1184642]\n\tOrdinal0 [0x00BEEC64+1109092]\n\tOrdinal0 [0x00BFF5B2+1177010]\n\tOrdinal0 [0x00BEEA36+1108534]\n\tOrdinal0 [0x00BC83C9+951241]\n\tOrdinal0 [0x00BC9396+955286]\n\tGetHandleVerifier [0x00FA9CE2+2746722]\n\tGetHandleVerifier [0x00F9A234+2682548]\n\tGetHandleVerifier [0x00D8B34A+524234]\n\tGetHandleVerifier [0x00D89B60+518112]\n\tOrdinal0 [0x00C99FBC+1810364]\n\tOrdinal0 [0x00C9EA28+1829416]\n\tOrdinal0 [0x00C9EB15+1829653]\n\tOrdinal0 [0x00CA8744+1869636]\n\tBaseThreadInitThunk [0x768CFA29+25]\n\tRtlGetAppContainerNamedObjectPath [0x76F77A9E+286]\n\tRtlGetAppContainerNamedObjectPath [0x76F77A6E+238]\n"
     ]
    }
   ],
   "source": [
    "iwantreview = [\"후기\", \"리뷰\"]\n",
    "reviwe_list = []\n",
    "\n",
    "num = 0\n",
    "for review in review_list:\n",
    "    review = review[0]\n",
    "    print('{}의 게임 리뷰를 수집합니다.'.format(review))\n",
    "    # 루리웹 게임찾기 페이지\n",
    "    driver.implicitly_wait(1)\n",
    "    driver.get('https://bbs.ruliweb.com/game')\n",
    "    time.sleep(2)\n",
    "    # 게임 리스트 검색\n",
    "    driver.find_element(\"xpath\",'//*[@id=\"game_search\"]/form/div[1]/div[2]/div/div[4]/div[1]/div/input[5]').send_keys(review)\n",
    "    driver.find_element(\"xpath\",'//*[@id=\"game_search\"]/form/div[1]/div[2]/div/div[4]/div[1]/div/button').click()\n",
    "    time.sleep(1)\n",
    "    \n",
    "    if driver.find_element(\"xpath\", '//*[@id=\"game_search\"]/form/ul/li/div/div[2]/div/p') == True: # 검색 결과없음 창이 뜬다면?\n",
    "        print('게임 데이터가 없습니다.')\n",
    "    else:\n",
    "        try: # 에러가 발생할 수 있는 부분\n",
    "            driver.find_element(\"xpath\", '//*[@id=\"game_search\"]/form/ul/li/div/div[2]/div/ul/a/li[1]/strong').click()\n",
    "            time.sleep(1)\n",
    "            # '후기' 검색\n",
    "            driver.find_element(\"xpath\",'//*[@id=\"board_list\"]/div/div[3]/div[3]/div/input').send_keys(iwantreview[0]) # 후기 검색\n",
    "            driver.find_element(\"xpath\",'//*[@id=\"board_list\"]/div/div[3]/div[3]/div/button').click()\n",
    "            time.sleep(1)\n",
    "            # 후기 리스트 데이터 프레임에 집어넣는 코드\n",
    "            if driver.find_element(\"xpath\",'//*[@id=\"board_list\"]/div/div[2]/table/tbody/tr[2]/td/p') == True: # 만약 게시글이 없을 경우 패스\n",
    "                print('후기 게시물이 없습니다.')\n",
    "                driver.back()\n",
    "            else:\n",
    "                driver.find_element(\"xpath\",'//*[@id=\"board_list\"]/div/div[2]/table/thead/tr/th[5]/a').click() # 후기 게시글이 있을 경우 추천수 내림차순\n",
    "                print('후기를 스크랩하고 있습니다.')\n",
    "                time.sleep(1)\n",
    "                reviewtext()\n",
    "                    # 텍스트 -> 리스트화, 데이터 셋으로 만들기\n",
    "        except:\n",
    "            try:\n",
    "                driver.find_element(\"xpath\", '//*[@id=\"board_list\"]/div/div[3]/div[3]/div/input').click() # 검색창 클릭\n",
    "                time.sleep(1)\n",
    "                driver.find_element(\"xpath\",'//*[@id=\"board_list\"]/div/div[3]/div[3]/div/input').send_keys(iwantreview[1]) # 리뷰 검색\n",
    "                driver.find_element(\"xpath\",'//*[@id=\"board_list\"]/div/div[3]/div[3]/div/button').click()\n",
    "                time.sleep(1)\n",
    "                \n",
    "                if driver.find_element(\"xpath\", '//*[@id=\"board_list\"]/div/div[2]/table/tbody/tr[3]/td/p') == True:# 만약 게시글이 없을 경우 패스\n",
    "                    print('리뷰 게시물이 없습니다.')\n",
    "                else:\n",
    "                    driver.find_element(\"xpath\",'//*[@id=\"board_list\"]/div/div[2]/table/thead/tr/th[5]/a').click() # 후기 게시글이 있을 경우 추천수 내림차순\n",
    "                    print('리뷰를 스크랩하고 있습니다.')\n",
    "                    time.sleep(1)\n",
    "                    reviewtext()\n",
    "                \n",
    "            except:\n",
    "                pass\n",
    "\n",
    "            # # else:\n",
    "            #     driver.find_element(\"xpath\",'//*[@id=\"board_list\"]/div/div[2]/table/thead/tr/th[5]/a').click() # 후기 게시글이 있을 경우 추천수 내림차순\n",
    "            #     time.sleep(1)\n",
    "                \n",
    "            #     for nums in range(1, 32):   # 후기 게시글 텍스트화하는 코드\n",
    "            #         driver.find_element(\"xpath\",'//*[@id=\"board_list\"]/div/div[2]/table/tbody/tr[%d]/td[3]/div/a[1]' % (nums)).click()\n",
    "            #         driver.find_element(\"xpath\",'//*[@id=\"board_read\"]/div/div[2]/div[2]/div[1]').text # 메인 글\n",
    "            #         driver.find_element(\"xpath\",'//*[@id=\"board_read\"]/div/div[2]/div[1]/div[1]/div[2]/div[2]/div/p[5]').text # 추천, 조회수, 비추천\n",
    "            #         driver.find_element(\"xpath\",'//*[@id=\"board_read\"]/div/div[2]/div[1]/div[1]/div[2]/div[2]/div/p[6]/span').text # 날짜\n",
    "                    \n",
    "            #         # '리뷰' 검색\n",
    "            #     driver.find_element(\"xpath\",'//*[@id=\"board_list\"]/div/div[3]/div[3]/div/input').send_keys(iwantreview[1])\n",
    "            #     driver.find_element(\"xpath\",'//*[@id=\"board_list\"]/div/div[3]/div[3]/div/button').click()\n",
    "            #     time.sleep(1)\n",
    "            #     # 리뷰 리스트 데이터 프레임에 집어넣는 코드\n",
    "\n",
    "            #     try:\n",
    "            #         driver.find_element(\"xpath\", '//*[@id=\"board_list\"]/div/div[2]/table/tbody/tr[3]/td/p')# 만약 게시글이 없을 경우 패스\n",
    "            #         print('리뷰 게시물이 없습니다.')\n",
    "            #     except:\n",
    "            #         driver.get('https://bbs.ruliweb.com/game')\n",
    "            #         time.sleep(2)\n",
    "            #     # else:\n",
    "            #         driver.find_element(\"xpath\",'//*[@id=\"board_list\"]/div/div[2]/table/thead/tr/th[5]/a').click() # 게시글이 있을 경우 추천수 내림차순\n",
    "\n",
    "            # 대충 개별 후기 들어가서 스크랩하는 코드\n",
    "            # \n",
    "\n",
    "    # else:\n",
    "    #     driver.find_element(\"xpath\", '//*[@id=\"game_search\"]/form/ul/li/div/div[2]/div/p')\n",
    "\n"
   ]
  },
  {
   "cell_type": "code",
   "execution_count": null,
   "metadata": {},
   "outputs": [],
   "source": []
  }
 ],
 "metadata": {
  "kernelspec": {
   "display_name": "Python 3.8.8 ('base')",
   "language": "python",
   "name": "python3"
  },
  "language_info": {
   "codemirror_mode": {
    "name": "ipython",
    "version": 3
   },
   "file_extension": ".py",
   "mimetype": "text/x-python",
   "name": "python",
   "nbconvert_exporter": "python",
   "pygments_lexer": "ipython3",
   "version": "3.8.8"
  },
  "orig_nbformat": 4,
  "vscode": {
   "interpreter": {
    "hash": "f08154012ddadd8e950e6e9e035c7a7b32c136e7647e9b7c77e02eb723a8bedb"
   }
  }
 },
 "nbformat": 4,
 "nbformat_minor": 2
}
