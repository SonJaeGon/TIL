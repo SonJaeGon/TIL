{
 "cells": [
  {
   "cell_type": "code",
   "execution_count": 41,
   "metadata": {},
   "outputs": [],
   "source": [
    "def solution(n):\n",
    "    answer = 0\n",
    "    x = [int(a) for a in str(n)]\n",
    "    for i in x:\n",
    "        i.sum()\n",
    "    \n",
    "    return answer"
   ]
  },
  {
   "cell_type": "code",
   "execution_count": 42,
   "metadata": {},
   "outputs": [
    {
     "ename": "AttributeError",
     "evalue": "'int' object has no attribute 'sum'",
     "output_type": "error",
     "traceback": [
      "\u001b[1;31m---------------------------------------------------------------------------\u001b[0m",
      "\u001b[1;31mAttributeError\u001b[0m                            Traceback (most recent call last)",
      "\u001b[1;32mc:\\Users\\User\\Documents\\dev\\TIL\\algorithm\\programmers\\사전테스트.ipynb 셀 2\u001b[0m in \u001b[0;36m<cell line: 1>\u001b[1;34m()\u001b[0m\n\u001b[1;32m----> <a href='vscode-notebook-cell:/c%3A/Users/User/Documents/dev/TIL/algorithm/programmers/%EC%82%AC%EC%A0%84%ED%85%8C%EC%8A%A4%ED%8A%B8.ipynb#W1sZmlsZQ%3D%3D?line=0'>1</a>\u001b[0m \u001b[39mprint\u001b[39m(solution(\u001b[39m123\u001b[39;49m))\n",
      "\u001b[1;32mc:\\Users\\User\\Documents\\dev\\TIL\\algorithm\\programmers\\사전테스트.ipynb 셀 2\u001b[0m in \u001b[0;36msolution\u001b[1;34m(n)\u001b[0m\n\u001b[0;32m      <a href='vscode-notebook-cell:/c%3A/Users/User/Documents/dev/TIL/algorithm/programmers/%EC%82%AC%EC%A0%84%ED%85%8C%EC%8A%A4%ED%8A%B8.ipynb#W1sZmlsZQ%3D%3D?line=2'>3</a>\u001b[0m x \u001b[39m=\u001b[39m [\u001b[39mint\u001b[39m(a) \u001b[39mfor\u001b[39;00m a \u001b[39min\u001b[39;00m \u001b[39mstr\u001b[39m(n)]\n\u001b[0;32m      <a href='vscode-notebook-cell:/c%3A/Users/User/Documents/dev/TIL/algorithm/programmers/%EC%82%AC%EC%A0%84%ED%85%8C%EC%8A%A4%ED%8A%B8.ipynb#W1sZmlsZQ%3D%3D?line=3'>4</a>\u001b[0m \u001b[39mfor\u001b[39;00m i \u001b[39min\u001b[39;00m x:\n\u001b[1;32m----> <a href='vscode-notebook-cell:/c%3A/Users/User/Documents/dev/TIL/algorithm/programmers/%EC%82%AC%EC%A0%84%ED%85%8C%EC%8A%A4%ED%8A%B8.ipynb#W1sZmlsZQ%3D%3D?line=4'>5</a>\u001b[0m     i\u001b[39m.\u001b[39;49msum()\n\u001b[0;32m      <a href='vscode-notebook-cell:/c%3A/Users/User/Documents/dev/TIL/algorithm/programmers/%EC%82%AC%EC%A0%84%ED%85%8C%EC%8A%A4%ED%8A%B8.ipynb#W1sZmlsZQ%3D%3D?line=6'>7</a>\u001b[0m \u001b[39mreturn\u001b[39;00m answer\n",
      "\u001b[1;31mAttributeError\u001b[0m: 'int' object has no attribute 'sum'"
     ]
    }
   ],
   "source": [
    "print(solution(123))"
   ]
  },
  {
   "cell_type": "code",
   "execution_count": 62,
   "metadata": {},
   "outputs": [
    {
     "name": "stdout",
     "output_type": "stream",
     "text": [
      "11\n"
     ]
    }
   ],
   "source": [
    "def solution(n):\n",
    "    answer = 0\n",
    "    for i in map(int, str(n)):\n",
    "        answer += i\n",
    "    \n",
    "    return answer\n",
    "\n",
    "print(solution(1253))"
   ]
  },
  {
   "cell_type": "code",
   "execution_count": 49,
   "metadata": {},
   "outputs": [
    {
     "name": "stdout",
     "output_type": "stream",
     "text": [
      "0\n"
     ]
    }
   ],
   "source": [
    "print(solution(123))"
   ]
  },
  {
   "cell_type": "code",
   "execution_count": 45,
   "metadata": {},
   "outputs": [
    {
     "name": "stdout",
     "output_type": "stream",
     "text": [
      "[1, 3, 5, 7, 9]\n"
     ]
    }
   ],
   "source": [
    "num = 13579\n",
    "x = [int(a) for a in str(num)]\n",
    "\n",
    "print(x)"
   ]
  },
  {
   "cell_type": "code",
   "execution_count": 27,
   "metadata": {},
   "outputs": [
    {
     "data": {
      "text/plain": [
       "list"
      ]
     },
     "execution_count": 27,
     "metadata": {},
     "output_type": "execute_result"
    }
   ],
   "source": [
    "type(x)"
   ]
  },
  {
   "cell_type": "code",
   "execution_count": null,
   "metadata": {},
   "outputs": [],
   "source": []
  }
 ],
 "metadata": {
  "kernelspec": {
   "display_name": "Python 3.10.3 64-bit",
   "language": "python",
   "name": "python3"
  },
  "language_info": {
   "codemirror_mode": {
    "name": "ipython",
    "version": 3
   },
   "file_extension": ".py",
   "mimetype": "text/x-python",
   "name": "python",
   "nbconvert_exporter": "python",
   "pygments_lexer": "ipython3",
   "version": "3.10.3"
  },
  "orig_nbformat": 4,
  "vscode": {
   "interpreter": {
    "hash": "afb734500600fd355917ca529030176ea0ca205570884b88f2f6f7d791fd3fbe"
   }
  }
 },
 "nbformat": 4,
 "nbformat_minor": 2
}
