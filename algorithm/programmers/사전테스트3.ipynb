{
 "cells": [
  {
   "cell_type": "code",
   "execution_count": 7,
   "metadata": {},
   "outputs": [],
   "source": [
    "def solution(v): \n",
    "    # x, y좌표가 들어갈 리스트 \n",
    "    x = [] \n",
    "    y = [] \n",
    "    answer = [] \n",
    "\t\n",
    "    # 이중배열 순회 \n",
    "    for i in v:\n",
    "        if i[0] not in x: \n",
    "\t        x.append(i[0]) \n",
    "        else: \n",
    "            x.remove(i[0]) \n",
    "        if i[1] not in y: \n",
    "            y.append(i[1]) \n",
    "        else: \n",
    "            y.remove(i[1]) \n",
    "    answer = x + y \n",
    "\t\n",
    "    return answer"
   ]
  },
  {
   "cell_type": "code",
   "execution_count": 9,
   "metadata": {},
   "outputs": [
    {
     "name": "stdout",
     "output_type": "stream",
     "text": [
      "[1, 10]\n"
     ]
    }
   ],
   "source": [
    "print(solution([[1,4],[3,4],[3,10]]))"
   ]
  },
  {
   "cell_type": "code",
   "execution_count": null,
   "metadata": {},
   "outputs": [],
   "source": []
  }
 ],
 "metadata": {
  "kernelspec": {
   "display_name": "Python 3.10.3 64-bit",
   "language": "python",
   "name": "python3"
  },
  "language_info": {
   "codemirror_mode": {
    "name": "ipython",
    "version": 3
   },
   "file_extension": ".py",
   "mimetype": "text/x-python",
   "name": "python",
   "nbconvert_exporter": "python",
   "pygments_lexer": "ipython3",
   "version": "3.10.3"
  },
  "orig_nbformat": 4,
  "vscode": {
   "interpreter": {
    "hash": "afb734500600fd355917ca529030176ea0ca205570884b88f2f6f7d791fd3fbe"
   }
  }
 },
 "nbformat": 4,
 "nbformat_minor": 2
}
