{
 "cells": [
  {
   "cell_type": "markdown",
   "metadata": {},
   "source": [
    "# 문제 설명\n",
    "수많은 마라톤 선수들이 마라톤에 참여하였습니다. 단 한 명의 선수를 제외하고는 모든 선수가 마라톤을 완주하였습니다.\n",
    "\n",
    "마라톤에 참여한 선수들의 이름이 담긴 배열 participant와 완주한 선수들의 이름이 담긴 배열 completion이 주어질 때, 완주하지 못한 선수의 이름을 return 하도록 solution 함수를 작성해주세요.\n",
    "\n",
    "# 제한사항\n",
    "마라톤 경기에 참여한 선수의 수는 1명 이상 100,000명 이하입니다.\n",
    "completion의 길이는 participant의 길이보다 1 작습니다.\n",
    "참가자의 이름은 1개 이상 20개 이하의 알파벳 소문자로 이루어져 있습니다.\n",
    "참가자 중에는 동명이인이 있을 수 있습니다.\n",
    "\n",
    "# 입출력 예\n",
    "participant\tcompletion\treturn\n",
    "[\"leo\", \"kiki\", \"eden\"]\t[\"eden\", \"kiki\"]\t\"leo\"\n",
    "[\"marina\", \"josipa\", \"nikola\", \"vinko\", \"filipa\"]\t[\"josipa\", \"filipa\", \"marina\", \"nikola\"]\t\"vinko\"\n",
    "[\"mislav\", \"stanko\", \"mislav\", \"ana\"]\t[\"stanko\", \"ana\", \"mislav\"]\t\"mislav\"\n",
    "\n",
    "# 입출력 예 설명\n",
    "예제 #1\n",
    "\"leo\"는 참여자 명단에는 있지만, 완주자 명단에는 없기 때문에 완주하지 못했습니다.\n",
    "\n",
    "예제 #2\n",
    "\"vinko\"는 참여자 명단에는 있지만, 완주자 명단에는 없기 때문에 완주하지 못했습니다.\n",
    "\n",
    "예제 #3\n",
    "\"mislav\"는 참여자 명단에는 두 명이 있지만, 완주자 명단에는 한 명밖에 없기 때문에 한명은 완주하지 못했습니다.\n",
    "\n"
   ]
  },
  {
   "cell_type": "code",
   "execution_count": 12,
   "metadata": {},
   "outputs": [],
   "source": [
    "def solution(participant, completion):\n",
    "    answer = ''\n",
    "    for i in participant:\n",
    "        if i != completion:\n",
    "            answer = i\n",
    "    return answer"
   ]
  },
  {
   "cell_type": "code",
   "execution_count": 13,
   "metadata": {},
   "outputs": [
    {
     "name": "stdout",
     "output_type": "stream",
     "text": [
      "eden\n"
     ]
    }
   ],
   "source": [
    "print(solution([\"leo\", \"kiki\", \"eden\"], [\"eden\", \"kiki\"]))"
   ]
  },
  {
   "cell_type": "code",
   "execution_count": null,
   "metadata": {},
   "outputs": [],
   "source": []
  }
 ],
 "metadata": {
  "kernelspec": {
   "display_name": "Python 3.10.3 64-bit",
   "language": "python",
   "name": "python3"
  },
  "language_info": {
   "codemirror_mode": {
    "name": "ipython",
    "version": 3
   },
   "file_extension": ".py",
   "mimetype": "text/x-python",
   "name": "python",
   "nbconvert_exporter": "python",
   "pygments_lexer": "ipython3",
   "version": "3.10.3"
  },
  "orig_nbformat": 4,
  "vscode": {
   "interpreter": {
    "hash": "afb734500600fd355917ca529030176ea0ca205570884b88f2f6f7d791fd3fbe"
   }
  }
 },
 "nbformat": 4,
 "nbformat_minor": 2
}
